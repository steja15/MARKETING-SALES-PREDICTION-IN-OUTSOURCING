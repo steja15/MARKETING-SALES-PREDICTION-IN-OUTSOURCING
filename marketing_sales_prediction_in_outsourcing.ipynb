{
  "nbformat": 4,
  "nbformat_minor": 0,
  "metadata": {
    "colab": {
      "provenance": []
    },
    "kernelspec": {
      "name": "python3",
      "display_name": "Python 3"
    },
    "language_info": {
      "name": "python"
    }
  },
  "cells": [
    {
      "cell_type": "code",
      "execution_count": 2,
      "metadata": {
        "id": "3eTtp2I2DJMZ"
      },
      "outputs": [],
      "source": [
        "# Importing necessary libraries\n",
        "import numpy as np\n",
        "import pandas as pd\n",
        "import matplotlib.pyplot as plt\n",
        "from sklearn.model_selection import train_test_split\n",
        "from sklearn.preprocessing import StandardScaler\n",
        "from sklearn.linear_model import LogisticRegression\n",
        "from sklearn.tree import DecisionTreeClassifier\n",
        "from sklearn.ensemble import RandomForestClassifier\n",
        "from sklearn.neighbors import KNeighborsClassifier\n",
        "from sklearn.metrics import accuracy_score\n",
        "from statsmodels.tsa.arima.model import ARIMA\n",
        "from sklearn.metrics import mean_squared_error\n",
        "from keras.models import Sequential\n",
        "from keras.layers import Dense, LSTM\n",
        "from tensorflow import keras\n",
        "from statsmodels.tsa.arima.model import ARIMA\n",
        "from sklearn.metrics import mean_squared_error"
      ]
    },
    {
      "cell_type": "code",
      "source": [
        "# Load dataset (replace 'data.csv' with your dataset)\n",
        "data = pd.read_csv('Marketing_Sales_Dataset.csv')"
      ],
      "metadata": {
        "id": "fnVQQajTDOK6"
      },
      "execution_count": 4,
      "outputs": []
    },
    {
      "cell_type": "code",
      "source": [
        "print(data.head)\n",
        "print(data.tail)\n",
        "print(data.describe)"
      ],
      "metadata": {
        "colab": {
          "base_uri": "https://localhost:8080/"
        },
        "id": "SZJg6O3V_z7w",
        "outputId": "e9748829-7472-4594-a30f-2ffb7fd2f8e4"
      },
      "execution_count": 5,
      "outputs": [
        {
          "output_type": "stream",
          "name": "stdout",
          "text": [
            "<bound method NDFrame.head of       Sales_ID Sales_Items_Returned  Sales_Profit Sales_Region  \\\n",
            "0            1                  Yes           110         West   \n",
            "1            2                  Yes           345         East   \n",
            "2            3                  Yes           580      Central   \n",
            "3            4                  Yes           815        South   \n",
            "4            5                  Yes          1050         West   \n",
            "...        ...                  ...           ...          ...   \n",
            "9989      9990                  Yes       2347525        North   \n",
            "9990      9991                  Yes       2347760         West   \n",
            "9991      9992                  Yes       2347995        North   \n",
            "9992      9993                  Yes       2348230         West   \n",
            "9993      9994                  Yes       2348465        North   \n",
            "\n",
            "     Market_Items_Order_ID  Sales_Data_ID  Sales_Order ID       Ship Mode  \\\n",
            "0           CA-2017-153822           7981  CA-2014-103800  Standard Class   \n",
            "1           CA-2017-129707            740  CA-2014-112326  Standard Class   \n",
            "2           CA-2014-152345            741  CA-2014-112326  Standard Class   \n",
            "3           CA-2015-156440            742  CA-2014-112326  Standard Class   \n",
            "4           US-2017-155999           1760  CA-2014-141817  Standard Class   \n",
            "...                    ...            ...             ...             ...   \n",
            "9989     CA-2016-139763537            908  CA-2017-143259  Standard Class   \n",
            "9990     CA-2016-139806748            909  CA-2017-143259  Standard Class   \n",
            "9991        CA-2015-151252           1297  CA-2017-115427  Standard Class   \n",
            "9992        US-2016-141789           1298  CA-2017-115427  Standard Class   \n",
            "9993        CA-2015-103527           5092  CA-2017-156720  Standard Class   \n",
            "\n",
            "     Customer ID      Customer Name  ... Postal Code   Region  \\\n",
            "0       DP-13000      Darren Powers  ...       77095  Central   \n",
            "1       PO-19195      Phillina Ober  ...       60540  Central   \n",
            "2       PO-19195      Phillina Ober  ...       60540  Central   \n",
            "3       PO-19195      Phillina Ober  ...       60540  Central   \n",
            "4       MB-18085         Mick Brown  ...       19143     East   \n",
            "...          ...                ...  ...         ...      ...   \n",
            "9989    PO-18865  Patrick O'Donnell  ...       10009     East   \n",
            "9990    PO-18865  Patrick O'Donnell  ...       10009     East   \n",
            "9991    EB-13975         Erica Bern  ...       94533     West   \n",
            "9992    EB-13975         Erica Bern  ...       94533     West   \n",
            "9993    JM-15580      Jill Matthias  ...       80538     West   \n",
            "\n",
            "           Product ID         Category  Sub-Category  \\\n",
            "0     OFF-PA-10000174  Office Supplies         Paper   \n",
            "1     OFF-LA-10003223  Office Supplies        Labels   \n",
            "2     OFF-ST-10002743  Office Supplies       Storage   \n",
            "3     OFF-BI-10004094  Office Supplies       Binders   \n",
            "4     OFF-AR-10003478  Office Supplies           Art   \n",
            "...               ...              ...           ...   \n",
            "9989  TEC-PH-10004774       Technology        Phones   \n",
            "9990  OFF-BI-10003684  Office Supplies       Binders   \n",
            "9991  OFF-BI-10002103  Office Supplies       Binders   \n",
            "9992  OFF-BI-10004632  Office Supplies       Binders   \n",
            "9993  OFF-FA-10003472  Office Supplies     Fasteners   \n",
            "\n",
            "                                           Product Name    Sales Quantity  \\\n",
            "0     Message Book, Wirebound, Four 5 1/2\" X 4\" Form...   16.448        2   \n",
            "1                                             Avery 508   11.784        3   \n",
            "2                         SAFCO Boltless Steel Shelving  272.736        3   \n",
            "3            GBC Standard Plastic Binding Systems Combs    3.540        2   \n",
            "4     Avery Hi-Liter EverBold Pen Style Fluorescent ...   19.536        3   \n",
            "...                                                 ...      ...      ...   \n",
            "9989                          Gear Head AU3700S Headset   90.930        7   \n",
            "9990               Wilson Jones Legal Size Ring Binders   52.776        3   \n",
            "9991    Cardinal Slant-D Ring Binder, Heavy Gauge Vinyl   13.904        2   \n",
            "9992                                 GBC Binding covers   20.720        2   \n",
            "9993                                Bagged Rubber Bands    3.024        3   \n",
            "\n",
            "     Discount   Profit  \n",
            "0         0.2   5.5512  \n",
            "1         0.2   4.2717  \n",
            "2         0.2 -64.7748  \n",
            "3         0.8  -5.4870  \n",
            "4         0.2   4.8840  \n",
            "...       ...      ...  \n",
            "9989      0.0   2.7279  \n",
            "9990      0.2  19.7910  \n",
            "9991      0.2   4.5188  \n",
            "9992      0.2   6.4750  \n",
            "9993      0.2  -0.6048  \n",
            "\n",
            "[9994 rows x 24 columns]>\n",
            "<bound method NDFrame.tail of       Sales_ID Sales_Items_Returned  Sales_Profit Sales_Region  \\\n",
            "0            1                  Yes           110         West   \n",
            "1            2                  Yes           345         East   \n",
            "2            3                  Yes           580      Central   \n",
            "3            4                  Yes           815        South   \n",
            "4            5                  Yes          1050         West   \n",
            "...        ...                  ...           ...          ...   \n",
            "9989      9990                  Yes       2347525        North   \n",
            "9990      9991                  Yes       2347760         West   \n",
            "9991      9992                  Yes       2347995        North   \n",
            "9992      9993                  Yes       2348230         West   \n",
            "9993      9994                  Yes       2348465        North   \n",
            "\n",
            "     Market_Items_Order_ID  Sales_Data_ID  Sales_Order ID       Ship Mode  \\\n",
            "0           CA-2017-153822           7981  CA-2014-103800  Standard Class   \n",
            "1           CA-2017-129707            740  CA-2014-112326  Standard Class   \n",
            "2           CA-2014-152345            741  CA-2014-112326  Standard Class   \n",
            "3           CA-2015-156440            742  CA-2014-112326  Standard Class   \n",
            "4           US-2017-155999           1760  CA-2014-141817  Standard Class   \n",
            "...                    ...            ...             ...             ...   \n",
            "9989     CA-2016-139763537            908  CA-2017-143259  Standard Class   \n",
            "9990     CA-2016-139806748            909  CA-2017-143259  Standard Class   \n",
            "9991        CA-2015-151252           1297  CA-2017-115427  Standard Class   \n",
            "9992        US-2016-141789           1298  CA-2017-115427  Standard Class   \n",
            "9993        CA-2015-103527           5092  CA-2017-156720  Standard Class   \n",
            "\n",
            "     Customer ID      Customer Name  ... Postal Code   Region  \\\n",
            "0       DP-13000      Darren Powers  ...       77095  Central   \n",
            "1       PO-19195      Phillina Ober  ...       60540  Central   \n",
            "2       PO-19195      Phillina Ober  ...       60540  Central   \n",
            "3       PO-19195      Phillina Ober  ...       60540  Central   \n",
            "4       MB-18085         Mick Brown  ...       19143     East   \n",
            "...          ...                ...  ...         ...      ...   \n",
            "9989    PO-18865  Patrick O'Donnell  ...       10009     East   \n",
            "9990    PO-18865  Patrick O'Donnell  ...       10009     East   \n",
            "9991    EB-13975         Erica Bern  ...       94533     West   \n",
            "9992    EB-13975         Erica Bern  ...       94533     West   \n",
            "9993    JM-15580      Jill Matthias  ...       80538     West   \n",
            "\n",
            "           Product ID         Category  Sub-Category  \\\n",
            "0     OFF-PA-10000174  Office Supplies         Paper   \n",
            "1     OFF-LA-10003223  Office Supplies        Labels   \n",
            "2     OFF-ST-10002743  Office Supplies       Storage   \n",
            "3     OFF-BI-10004094  Office Supplies       Binders   \n",
            "4     OFF-AR-10003478  Office Supplies           Art   \n",
            "...               ...              ...           ...   \n",
            "9989  TEC-PH-10004774       Technology        Phones   \n",
            "9990  OFF-BI-10003684  Office Supplies       Binders   \n",
            "9991  OFF-BI-10002103  Office Supplies       Binders   \n",
            "9992  OFF-BI-10004632  Office Supplies       Binders   \n",
            "9993  OFF-FA-10003472  Office Supplies     Fasteners   \n",
            "\n",
            "                                           Product Name    Sales Quantity  \\\n",
            "0     Message Book, Wirebound, Four 5 1/2\" X 4\" Form...   16.448        2   \n",
            "1                                             Avery 508   11.784        3   \n",
            "2                         SAFCO Boltless Steel Shelving  272.736        3   \n",
            "3            GBC Standard Plastic Binding Systems Combs    3.540        2   \n",
            "4     Avery Hi-Liter EverBold Pen Style Fluorescent ...   19.536        3   \n",
            "...                                                 ...      ...      ...   \n",
            "9989                          Gear Head AU3700S Headset   90.930        7   \n",
            "9990               Wilson Jones Legal Size Ring Binders   52.776        3   \n",
            "9991    Cardinal Slant-D Ring Binder, Heavy Gauge Vinyl   13.904        2   \n",
            "9992                                 GBC Binding covers   20.720        2   \n",
            "9993                                Bagged Rubber Bands    3.024        3   \n",
            "\n",
            "     Discount   Profit  \n",
            "0         0.2   5.5512  \n",
            "1         0.2   4.2717  \n",
            "2         0.2 -64.7748  \n",
            "3         0.8  -5.4870  \n",
            "4         0.2   4.8840  \n",
            "...       ...      ...  \n",
            "9989      0.0   2.7279  \n",
            "9990      0.2  19.7910  \n",
            "9991      0.2   4.5188  \n",
            "9992      0.2   6.4750  \n",
            "9993      0.2  -0.6048  \n",
            "\n",
            "[9994 rows x 24 columns]>\n",
            "<bound method NDFrame.describe of       Sales_ID Sales_Items_Returned  Sales_Profit Sales_Region  \\\n",
            "0            1                  Yes           110         West   \n",
            "1            2                  Yes           345         East   \n",
            "2            3                  Yes           580      Central   \n",
            "3            4                  Yes           815        South   \n",
            "4            5                  Yes          1050         West   \n",
            "...        ...                  ...           ...          ...   \n",
            "9989      9990                  Yes       2347525        North   \n",
            "9990      9991                  Yes       2347760         West   \n",
            "9991      9992                  Yes       2347995        North   \n",
            "9992      9993                  Yes       2348230         West   \n",
            "9993      9994                  Yes       2348465        North   \n",
            "\n",
            "     Market_Items_Order_ID  Sales_Data_ID  Sales_Order ID       Ship Mode  \\\n",
            "0           CA-2017-153822           7981  CA-2014-103800  Standard Class   \n",
            "1           CA-2017-129707            740  CA-2014-112326  Standard Class   \n",
            "2           CA-2014-152345            741  CA-2014-112326  Standard Class   \n",
            "3           CA-2015-156440            742  CA-2014-112326  Standard Class   \n",
            "4           US-2017-155999           1760  CA-2014-141817  Standard Class   \n",
            "...                    ...            ...             ...             ...   \n",
            "9989     CA-2016-139763537            908  CA-2017-143259  Standard Class   \n",
            "9990     CA-2016-139806748            909  CA-2017-143259  Standard Class   \n",
            "9991        CA-2015-151252           1297  CA-2017-115427  Standard Class   \n",
            "9992        US-2016-141789           1298  CA-2017-115427  Standard Class   \n",
            "9993        CA-2015-103527           5092  CA-2017-156720  Standard Class   \n",
            "\n",
            "     Customer ID      Customer Name  ... Postal Code   Region  \\\n",
            "0       DP-13000      Darren Powers  ...       77095  Central   \n",
            "1       PO-19195      Phillina Ober  ...       60540  Central   \n",
            "2       PO-19195      Phillina Ober  ...       60540  Central   \n",
            "3       PO-19195      Phillina Ober  ...       60540  Central   \n",
            "4       MB-18085         Mick Brown  ...       19143     East   \n",
            "...          ...                ...  ...         ...      ...   \n",
            "9989    PO-18865  Patrick O'Donnell  ...       10009     East   \n",
            "9990    PO-18865  Patrick O'Donnell  ...       10009     East   \n",
            "9991    EB-13975         Erica Bern  ...       94533     West   \n",
            "9992    EB-13975         Erica Bern  ...       94533     West   \n",
            "9993    JM-15580      Jill Matthias  ...       80538     West   \n",
            "\n",
            "           Product ID         Category  Sub-Category  \\\n",
            "0     OFF-PA-10000174  Office Supplies         Paper   \n",
            "1     OFF-LA-10003223  Office Supplies        Labels   \n",
            "2     OFF-ST-10002743  Office Supplies       Storage   \n",
            "3     OFF-BI-10004094  Office Supplies       Binders   \n",
            "4     OFF-AR-10003478  Office Supplies           Art   \n",
            "...               ...              ...           ...   \n",
            "9989  TEC-PH-10004774       Technology        Phones   \n",
            "9990  OFF-BI-10003684  Office Supplies       Binders   \n",
            "9991  OFF-BI-10002103  Office Supplies       Binders   \n",
            "9992  OFF-BI-10004632  Office Supplies       Binders   \n",
            "9993  OFF-FA-10003472  Office Supplies     Fasteners   \n",
            "\n",
            "                                           Product Name    Sales Quantity  \\\n",
            "0     Message Book, Wirebound, Four 5 1/2\" X 4\" Form...   16.448        2   \n",
            "1                                             Avery 508   11.784        3   \n",
            "2                         SAFCO Boltless Steel Shelving  272.736        3   \n",
            "3            GBC Standard Plastic Binding Systems Combs    3.540        2   \n",
            "4     Avery Hi-Liter EverBold Pen Style Fluorescent ...   19.536        3   \n",
            "...                                                 ...      ...      ...   \n",
            "9989                          Gear Head AU3700S Headset   90.930        7   \n",
            "9990               Wilson Jones Legal Size Ring Binders   52.776        3   \n",
            "9991    Cardinal Slant-D Ring Binder, Heavy Gauge Vinyl   13.904        2   \n",
            "9992                                 GBC Binding covers   20.720        2   \n",
            "9993                                Bagged Rubber Bands    3.024        3   \n",
            "\n",
            "     Discount   Profit  \n",
            "0         0.2   5.5512  \n",
            "1         0.2   4.2717  \n",
            "2         0.2 -64.7748  \n",
            "3         0.8  -5.4870  \n",
            "4         0.2   4.8840  \n",
            "...       ...      ...  \n",
            "9989      0.0   2.7279  \n",
            "9990      0.2  19.7910  \n",
            "9991      0.2   4.5188  \n",
            "9992      0.2   6.4750  \n",
            "9993      0.2  -0.6048  \n",
            "\n",
            "[9994 rows x 24 columns]>\n"
          ]
        }
      ]
    },
    {
      "cell_type": "code",
      "source": [
        "data['Target'] = (data['Sales_ID'].shift(-1) > data['Sales_ID']).astype(int)"
      ],
      "metadata": {
        "id": "uBzxGdkXAAG1"
      },
      "execution_count": 6,
      "outputs": []
    },
    {
      "cell_type": "code",
      "source": [
        "# Drop rows with NaN values\n",
        "data.dropna(inplace=True)"
      ],
      "metadata": {
        "id": "njkkFDYxACox"
      },
      "execution_count": 7,
      "outputs": []
    },
    {
      "cell_type": "code",
      "source": [
        "# Gathering the Information\n",
        "scaler = StandardScaler()\n",
        "scaled_data = scaler.fit_transform(data[['Sales_ID', 'Sales_Profit', 'Sales_Data_ID', 'Postal Code']])\n",
        "print(scaled_data)"
      ],
      "metadata": {
        "colab": {
          "base_uri": "https://localhost:8080/"
        },
        "id": "g5_oaHdqAGFD",
        "outputId": "949e8792-3bb7-40e9-a251-7de4c46525e3"
      },
      "execution_count": 8,
      "outputs": [
        {
          "output_type": "stream",
          "name": "stdout",
          "text": [
            "[[-1.73187751 -1.73187751  1.0341352   0.6831938 ]\n",
            " [-1.73153089 -1.73153089 -1.47572671  0.1668519 ]\n",
            " [-1.73118427 -1.73118427 -1.47538009  0.1668519 ]\n",
            " ...\n",
            " [ 1.73118427  1.73118427 -1.28266041  1.22707601]\n",
            " [ 1.73153089  1.73153089 -1.28231379  1.22707601]\n",
            " [ 1.73187751  1.73187751  0.03275541  0.79057919]]\n"
          ]
        }
      ]
    },
    {
      "cell_type": "code",
      "source": [
        "# Create features and target variable\n",
        "X = scaled_data[:, :-1]\n",
        "y = data['Target'].values"
      ],
      "metadata": {
        "id": "c_THD9lgDQtG"
      },
      "execution_count": 9,
      "outputs": []
    },
    {
      "cell_type": "code",
      "source": [
        "# Splitting the dataset into training and testing sets\n",
        "X_train, X_test, y_train, y_test = train_test_split(X, y, test_size=0.2, random_state=42)"
      ],
      "metadata": {
        "id": "--YFrMijDWlB"
      },
      "execution_count": 17,
      "outputs": []
    },
    {
      "cell_type": "code",
      "source": [
        "# Standardizing the features\n",
        "scaler = StandardScaler()\n",
        "X_train = scaler.fit_transform(X_train)\n",
        "X_test = scaler.transform(X_test)"
      ],
      "metadata": {
        "id": "fml9mtDBDZbD"
      },
      "execution_count": 18,
      "outputs": []
    },
    {
      "cell_type": "code",
      "source": [
        "# Logistic Regression\n",
        "log_reg = LogisticRegression()\n",
        "log_reg.fit(X_train, y_train)\n",
        "log_reg_pred = log_reg.predict(X_test)\n",
        "log_reg_accuracy = accuracy_score(y_test, log_reg_pred)\n",
        "print(log_reg_accuracy)"
      ],
      "metadata": {
        "id": "CtyOd7E8DcOQ",
        "colab": {
          "base_uri": "https://localhost:8080/"
        },
        "outputId": "b5fa0d0f-05e9-4d58-a3e1-505bfebd1ccf"
      },
      "execution_count": 19,
      "outputs": [
        {
          "output_type": "stream",
          "name": "stdout",
          "text": [
            "1.0\n"
          ]
        }
      ]
    },
    {
      "cell_type": "code",
      "source": [
        "# Decision Tree Classifier\n",
        "dt_classifier = DecisionTreeClassifier()\n",
        "dt_classifier.fit(X_train, y_train)\n",
        "dt_pred = dt_classifier.predict(X_test)\n",
        "dt_accuracy = accuracy_score(y_test, dt_pred)\n",
        "print(dt_accuracy)"
      ],
      "metadata": {
        "id": "5xRBkPd2DfFi",
        "colab": {
          "base_uri": "https://localhost:8080/"
        },
        "outputId": "a9ff72bb-2eeb-43b5-bbc6-400f9074aef0"
      },
      "execution_count": 13,
      "outputs": [
        {
          "output_type": "stream",
          "name": "stdout",
          "text": [
            "1.0\n"
          ]
        }
      ]
    },
    {
      "cell_type": "code",
      "source": [
        "# Random Forest Classifier\n",
        "rf_classifier = RandomForestClassifier()\n",
        "rf_classifier.fit(X_train, y_train)\n",
        "rf_pred = rf_classifier.predict(X_test)\n",
        "rf_accuracy = accuracy_score(y_test, rf_pred)\n",
        "print(rf_accuracy)"
      ],
      "metadata": {
        "id": "owKxUgPxDhx-",
        "colab": {
          "base_uri": "https://localhost:8080/"
        },
        "outputId": "7455eafc-441f-4ab0-d099-f4e11dd5f4c0"
      },
      "execution_count": 20,
      "outputs": [
        {
          "output_type": "stream",
          "name": "stdout",
          "text": [
            "1.0\n"
          ]
        }
      ]
    },
    {
      "cell_type": "code",
      "source": [
        "# K-Nearest Neighbors Classifier\n",
        "knn_classifier = KNeighborsClassifier()\n",
        "knn_classifier.fit(X_train, y_train)\n",
        "knn_pred = knn_classifier.predict(X_test)\n",
        "knn_accuracy = accuracy_score(y_test, knn_pred)\n",
        "print(knn_accuracy)"
      ],
      "metadata": {
        "id": "A41i5qMHDkjh",
        "colab": {
          "base_uri": "https://localhost:8080/"
        },
        "outputId": "5c59fbee-5b67-4a47-f0b6-5af46fbf0f78"
      },
      "execution_count": 21,
      "outputs": [
        {
          "output_type": "stream",
          "name": "stdout",
          "text": [
            "1.0\n"
          ]
        }
      ]
    },
    {
      "cell_type": "code",
      "source": [
        "# ARIMA Model\n",
        "# Assuming you have time series data for ARIMA\n",
        "# Splitting data for ARIMA\n",
        "train_data = data[:int(0.8*(len(data)))]\n",
        "test_data = data[int(0.8*(len(data))):]"
      ],
      "metadata": {
        "id": "MF0f4xzfDoFQ"
      },
      "execution_count": 22,
      "outputs": []
    },
    {
      "cell_type": "code",
      "source": [
        "# LSTM Model\n",
        "# Assuming you have sequential data for LSTM\n",
        "# Reshape the data\n",
        "X_train_lstm = np.reshape(X_train, (X_train.shape[0], X_train.shape[1], 1))\n",
        "X_test_lstm = np.reshape(X_test, (X_test.shape[0], X_test.shape[1], 1))"
      ],
      "metadata": {
        "id": "QJqyU3s6D9Wd"
      },
      "execution_count": 23,
      "outputs": []
    },
    {
      "cell_type": "code",
      "source": [
        "# Build LSTM model\n",
        "lstm_model = Sequential()\n",
        "lstm_model.add(LSTM(units=50, return_sequences=True, input_shape=(X_train_lstm.shape[1], 1)))\n",
        "lstm_model.add(LSTM(units=50, return_sequences=False))\n",
        "lstm_model.add(Dense(units=1))"
      ],
      "metadata": {
        "id": "qoWZhNwpEARt"
      },
      "execution_count": 24,
      "outputs": []
    },
    {
      "cell_type": "code",
      "source": [
        "# Compile the model\n",
        "lstm_model.compile(optimizer='adam', loss='mean_squared_error')"
      ],
      "metadata": {
        "id": "BKTJO094EE22"
      },
      "execution_count": 25,
      "outputs": []
    },
    {
      "cell_type": "code",
      "source": [
        "# Train the model\n",
        "lstm_model.fit(X_train_lstm, y_train, epochs=100, batch_size=32)"
      ],
      "metadata": {
        "id": "Gvx7fx1sEHov",
        "colab": {
          "base_uri": "https://localhost:8080/"
        },
        "outputId": "4c231203-e178-492d-cf46-548e82744c5d"
      },
      "execution_count": 26,
      "outputs": [
        {
          "output_type": "stream",
          "name": "stdout",
          "text": [
            "Epoch 1/100\n",
            "250/250 [==============================] - 4s 4ms/step - loss: 0.0918\n",
            "Epoch 2/100\n",
            "250/250 [==============================] - 1s 4ms/step - loss: 1.6769e-04\n",
            "Epoch 3/100\n",
            "250/250 [==============================] - 2s 6ms/step - loss: 1.3367e-04\n",
            "Epoch 4/100\n",
            "250/250 [==============================] - 1s 5ms/step - loss: 1.3761e-04\n",
            "Epoch 5/100\n",
            "250/250 [==============================] - 1s 4ms/step - loss: 1.3874e-04\n",
            "Epoch 6/100\n",
            "250/250 [==============================] - 1s 4ms/step - loss: 1.5225e-04\n",
            "Epoch 7/100\n",
            "250/250 [==============================] - 1s 4ms/step - loss: 1.4272e-04\n",
            "Epoch 8/100\n",
            "250/250 [==============================] - 1s 4ms/step - loss: 1.4647e-04\n",
            "Epoch 9/100\n",
            "250/250 [==============================] - 1s 4ms/step - loss: 1.4759e-04\n",
            "Epoch 10/100\n",
            "250/250 [==============================] - 1s 6ms/step - loss: 1.6657e-04\n",
            "Epoch 11/100\n",
            "250/250 [==============================] - 1s 5ms/step - loss: 1.5800e-04\n",
            "Epoch 12/100\n",
            "250/250 [==============================] - 1s 4ms/step - loss: 1.7305e-04\n",
            "Epoch 13/100\n",
            "250/250 [==============================] - 1s 5ms/step - loss: 1.5334e-04\n",
            "Epoch 14/100\n",
            "250/250 [==============================] - 1s 5ms/step - loss: 1.5785e-04\n",
            "Epoch 15/100\n",
            "250/250 [==============================] - 1s 4ms/step - loss: 1.7337e-04\n",
            "Epoch 16/100\n",
            "250/250 [==============================] - 1s 4ms/step - loss: 1.7555e-04\n",
            "Epoch 17/100\n",
            "250/250 [==============================] - 1s 4ms/step - loss: 1.6116e-04\n",
            "Epoch 18/100\n",
            "250/250 [==============================] - 1s 4ms/step - loss: 1.5767e-04\n",
            "Epoch 19/100\n",
            "250/250 [==============================] - 1s 4ms/step - loss: 1.7086e-04\n",
            "Epoch 20/100\n",
            "250/250 [==============================] - 1s 4ms/step - loss: 1.7146e-04\n",
            "Epoch 21/100\n",
            "250/250 [==============================] - 1s 4ms/step - loss: 1.5083e-04\n",
            "Epoch 22/100\n",
            "250/250 [==============================] - 1s 4ms/step - loss: 1.6329e-04\n",
            "Epoch 23/100\n",
            "250/250 [==============================] - 1s 4ms/step - loss: 1.7326e-04\n",
            "Epoch 24/100\n",
            "250/250 [==============================] - 1s 5ms/step - loss: 1.6783e-04\n",
            "Epoch 25/100\n",
            "250/250 [==============================] - 1s 5ms/step - loss: 1.6113e-04\n",
            "Epoch 26/100\n",
            "250/250 [==============================] - 1s 5ms/step - loss: 1.7146e-04\n",
            "Epoch 27/100\n",
            "250/250 [==============================] - 1s 4ms/step - loss: 1.6751e-04\n",
            "Epoch 28/100\n",
            "250/250 [==============================] - 1s 4ms/step - loss: 1.8378e-04\n",
            "Epoch 29/100\n",
            "250/250 [==============================] - 1s 4ms/step - loss: 1.5959e-04\n",
            "Epoch 30/100\n",
            "250/250 [==============================] - 1s 4ms/step - loss: 1.5366e-04\n",
            "Epoch 31/100\n",
            "250/250 [==============================] - 1s 4ms/step - loss: 1.5436e-04\n",
            "Epoch 32/100\n",
            "250/250 [==============================] - 1s 4ms/step - loss: 1.5684e-04\n",
            "Epoch 33/100\n",
            "250/250 [==============================] - 1s 4ms/step - loss: 1.6441e-04\n",
            "Epoch 34/100\n",
            "250/250 [==============================] - 1s 4ms/step - loss: 1.4689e-04\n",
            "Epoch 35/100\n",
            "250/250 [==============================] - 1s 5ms/step - loss: 1.5973e-04\n",
            "Epoch 36/100\n",
            "250/250 [==============================] - 1s 4ms/step - loss: 1.5902e-04\n",
            "Epoch 37/100\n",
            "250/250 [==============================] - 1s 4ms/step - loss: 1.5240e-04\n",
            "Epoch 38/100\n",
            "250/250 [==============================] - 1s 4ms/step - loss: 1.5515e-04\n",
            "Epoch 39/100\n",
            "250/250 [==============================] - 1s 4ms/step - loss: 1.4856e-04\n",
            "Epoch 40/100\n",
            "250/250 [==============================] - 1s 4ms/step - loss: 1.4798e-04\n",
            "Epoch 41/100\n",
            "250/250 [==============================] - 1s 4ms/step - loss: 1.4757e-04\n",
            "Epoch 42/100\n",
            "250/250 [==============================] - 1s 4ms/step - loss: 1.5722e-04\n",
            "Epoch 43/100\n",
            "250/250 [==============================] - 1s 6ms/step - loss: 1.4718e-04\n",
            "Epoch 44/100\n",
            "250/250 [==============================] - 1s 4ms/step - loss: 1.4596e-04\n",
            "Epoch 45/100\n",
            "250/250 [==============================] - 2s 6ms/step - loss: 1.4568e-04\n",
            "Epoch 46/100\n",
            "250/250 [==============================] - 1s 5ms/step - loss: 1.4844e-04\n",
            "Epoch 47/100\n",
            "250/250 [==============================] - 1s 4ms/step - loss: 1.5380e-04\n",
            "Epoch 48/100\n",
            "250/250 [==============================] - 1s 4ms/step - loss: 1.4639e-04\n",
            "Epoch 49/100\n",
            "250/250 [==============================] - 1s 4ms/step - loss: 1.4534e-04\n",
            "Epoch 50/100\n",
            "250/250 [==============================] - 1s 4ms/step - loss: 1.4818e-04\n",
            "Epoch 51/100\n",
            "250/250 [==============================] - 1s 4ms/step - loss: 1.4645e-04\n",
            "Epoch 52/100\n",
            "250/250 [==============================] - 1s 4ms/step - loss: 1.5240e-04\n",
            "Epoch 53/100\n",
            "250/250 [==============================] - 1s 4ms/step - loss: 1.4908e-04\n",
            "Epoch 54/100\n",
            "250/250 [==============================] - 1s 4ms/step - loss: 1.4104e-04\n",
            "Epoch 55/100\n",
            "250/250 [==============================] - 1s 5ms/step - loss: 1.4757e-04\n",
            "Epoch 56/100\n",
            "250/250 [==============================] - 2s 7ms/step - loss: 1.3656e-04\n",
            "Epoch 57/100\n",
            "250/250 [==============================] - 1s 4ms/step - loss: 1.5297e-04\n",
            "Epoch 58/100\n",
            "250/250 [==============================] - 1s 4ms/step - loss: 1.4252e-04\n",
            "Epoch 59/100\n",
            "250/250 [==============================] - 1s 4ms/step - loss: 1.4435e-04\n",
            "Epoch 60/100\n",
            "250/250 [==============================] - 1s 4ms/step - loss: 1.4364e-04\n",
            "Epoch 61/100\n",
            "250/250 [==============================] - 1s 5ms/step - loss: 1.4188e-04\n",
            "Epoch 62/100\n",
            "250/250 [==============================] - 1s 5ms/step - loss: 1.4115e-04\n",
            "Epoch 63/100\n",
            "250/250 [==============================] - 1s 4ms/step - loss: 1.4321e-04\n",
            "Epoch 64/100\n",
            "250/250 [==============================] - 1s 5ms/step - loss: 1.4052e-04\n",
            "Epoch 65/100\n",
            "250/250 [==============================] - 1s 4ms/step - loss: 1.4107e-04\n",
            "Epoch 66/100\n",
            "250/250 [==============================] - 1s 5ms/step - loss: 1.4389e-04\n",
            "Epoch 67/100\n",
            "250/250 [==============================] - 1s 5ms/step - loss: 1.3988e-04\n",
            "Epoch 68/100\n",
            "250/250 [==============================] - 1s 4ms/step - loss: 1.4324e-04\n",
            "Epoch 69/100\n",
            "250/250 [==============================] - 1s 4ms/step - loss: 1.3997e-04\n",
            "Epoch 70/100\n",
            "250/250 [==============================] - 1s 4ms/step - loss: 1.4091e-04\n",
            "Epoch 71/100\n",
            "250/250 [==============================] - 1s 4ms/step - loss: 1.4563e-04\n",
            "Epoch 72/100\n",
            "250/250 [==============================] - 1s 4ms/step - loss: 1.4025e-04\n",
            "Epoch 73/100\n",
            "250/250 [==============================] - 1s 5ms/step - loss: 1.4080e-04\n",
            "Epoch 74/100\n",
            "250/250 [==============================] - 1s 5ms/step - loss: 1.4025e-04\n",
            "Epoch 75/100\n",
            "250/250 [==============================] - 1s 4ms/step - loss: 1.3962e-04\n",
            "Epoch 76/100\n",
            "250/250 [==============================] - 1s 5ms/step - loss: 1.3922e-04\n",
            "Epoch 77/100\n",
            "250/250 [==============================] - 1s 5ms/step - loss: 1.2884e-04\n",
            "Epoch 78/100\n",
            "250/250 [==============================] - 1s 4ms/step - loss: 1.4768e-04\n",
            "Epoch 79/100\n",
            "250/250 [==============================] - 1s 4ms/step - loss: 1.3998e-04\n",
            "Epoch 80/100\n",
            "250/250 [==============================] - 1s 5ms/step - loss: 1.3921e-04\n",
            "Epoch 81/100\n",
            "250/250 [==============================] - 1s 4ms/step - loss: 1.4036e-04\n",
            "Epoch 82/100\n",
            "250/250 [==============================] - 1s 5ms/step - loss: 1.3957e-04\n",
            "Epoch 83/100\n",
            "250/250 [==============================] - 1s 4ms/step - loss: 1.4012e-04\n",
            "Epoch 84/100\n",
            "250/250 [==============================] - 1s 4ms/step - loss: 1.3836e-04\n",
            "Epoch 85/100\n",
            "250/250 [==============================] - 1s 5ms/step - loss: 1.3888e-04\n",
            "Epoch 86/100\n",
            "250/250 [==============================] - 1s 5ms/step - loss: 1.3313e-04\n",
            "Epoch 87/100\n",
            "250/250 [==============================] - 1s 5ms/step - loss: 1.4432e-04\n",
            "Epoch 88/100\n",
            "250/250 [==============================] - 1s 4ms/step - loss: 1.3927e-04\n",
            "Epoch 89/100\n",
            "250/250 [==============================] - 1s 4ms/step - loss: 1.3807e-04\n",
            "Epoch 90/100\n",
            "250/250 [==============================] - 1s 4ms/step - loss: 1.3788e-04\n",
            "Epoch 91/100\n",
            "250/250 [==============================] - 1s 5ms/step - loss: 1.3852e-04\n",
            "Epoch 92/100\n",
            "250/250 [==============================] - 1s 5ms/step - loss: 1.3948e-04\n",
            "Epoch 93/100\n",
            "250/250 [==============================] - 1s 4ms/step - loss: 1.3875e-04\n",
            "Epoch 94/100\n",
            "250/250 [==============================] - 1s 5ms/step - loss: 1.3741e-04\n",
            "Epoch 95/100\n",
            "250/250 [==============================] - 1s 4ms/step - loss: 1.3807e-04\n",
            "Epoch 96/100\n",
            "250/250 [==============================] - 1s 4ms/step - loss: 1.2838e-04\n",
            "Epoch 97/100\n",
            "250/250 [==============================] - 1s 5ms/step - loss: 1.5642e-04\n",
            "Epoch 98/100\n",
            "250/250 [==============================] - 2s 6ms/step - loss: 1.3716e-04\n",
            "Epoch 99/100\n",
            "250/250 [==============================] - 1s 4ms/step - loss: 1.3731e-04\n",
            "Epoch 100/100\n",
            "250/250 [==============================] - 1s 4ms/step - loss: 1.3706e-04\n"
          ]
        },
        {
          "output_type": "execute_result",
          "data": {
            "text/plain": [
              "<keras.src.callbacks.History at 0x7a75d50ad570>"
            ]
          },
          "metadata": {},
          "execution_count": 26
        }
      ]
    },
    {
      "cell_type": "code",
      "source": [
        "# Predictions\n",
        "lstm_predictions = lstm_model.predict(X_test_lstm)"
      ],
      "metadata": {
        "id": "zUn4HkBwEKf7",
        "colab": {
          "base_uri": "https://localhost:8080/"
        },
        "outputId": "4eb96551-cdf3-4b52-d084-79d77cdbeeaf"
      },
      "execution_count": 27,
      "outputs": [
        {
          "output_type": "stream",
          "name": "stdout",
          "text": [
            "63/63 [==============================] - 1s 2ms/step\n"
          ]
        }
      ]
    },
    {
      "cell_type": "code",
      "source": [
        "# Visualization (assuming you want to visualize predictions)\n",
        "plt.plot(test_data.index, test_data['Sales_ID'], label='Actual')\n",
        "plt.plot(test_data.index, lstm_predictions, label='LSTM')\n",
        "plt.legend()\n",
        "plt.show()"
      ],
      "metadata": {
        "id": "3dhVknW8ERKk",
        "colab": {
          "base_uri": "https://localhost:8080/",
          "height": 430
        },
        "outputId": "0c9b4560-b0ce-461c-8aae-c9d6578a605a"
      },
      "execution_count": 29,
      "outputs": [
        {
          "output_type": "display_data",
          "data": {
            "text/plain": [
              "<Figure size 640x480 with 1 Axes>"
            ],
            "image/png": "[encoded data removed]"
          },
          "metadata": {}
        }
      ]
    },
    {
      "cell_type": "code",
      "source": [
        "# Visualization (assuming you want to visualize predictions)\n",
        "plt.plot(test_data.index, test_data['Sales_Profit'], label='Actual')\n",
        "plt.plot(test_data.index, lstm_predictions, label='LSTM')\n",
        "plt.legend()\n",
        "plt.show()"
      ],
      "metadata": {
        "colab": {
          "base_uri": "https://localhost:8080/",
          "height": 445
        },
        "id": "WRvsf8rwPhzg",
        "outputId": "f4479b14-8e9c-4e20-d8bc-8b3f0c30ea95"
      },
      "execution_count": 30,
      "outputs": [
        {
          "output_type": "display_data",
          "data": {
            "text/plain": [
              "<Figure size 640x480 with 1 Axes>"
            ],
            "image/png": "[encoded data removed]"
          },
          "metadata": {}
        }
      ]
    },
    {
      "cell_type": "code",
      "source": [
        "# Visualization (assuming you want to visualize predictions)\n",
        "plt.plot(test_data.index, test_data['Sales_Data_ID'], label='Actual')\n",
        "plt.plot(test_data.index, lstm_predictions, label='LSTM')\n",
        "plt.legend()\n",
        "plt.show()"
      ],
      "metadata": {
        "colab": {
          "base_uri": "https://localhost:8080/",
          "height": 430
        },
        "id": "DzgPSE1NPq6T",
        "outputId": "52314bbc-322e-4b5b-a719-1a613fc3160d"
      },
      "execution_count": 31,
      "outputs": [
        {
          "output_type": "display_data",
          "data": {
            "text/plain": [
              "<Figure size 640x480 with 1 Axes>"
            ],
            "image/png": "[encoded data removed]"
          },
          "metadata": {}
        }
      ]
    }
  ]
}